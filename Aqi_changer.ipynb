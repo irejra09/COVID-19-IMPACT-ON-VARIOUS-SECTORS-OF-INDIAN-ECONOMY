{
 "cells": [
  {
   "cell_type": "code",
   "execution_count": null,
   "id": "a31fa5ee",
   "metadata": {},
   "outputs": [],
   "source": [
    "import pandas as pd\n",
    "\n",
    "# Load the AQI data\n",
    "data = {\n",
    "    'City': ['Delhi', 'Delhi', 'Noida', 'Noida', 'Gurgaon', 'Gurgaon', 'Faridabad', 'Faridabad', 'Ghaziabad', 'Ghaziabad'],\n",
    "    'Period': ['Before Lockdown', 'During Lockdown', 'Before Lockdown', 'During Lockdown', 'Before Lockdown', 'During Lockdown', 'Before Lockdown', 'During Lockdown', 'Before Lockdown', 'During Lockdown'],\n",
    "    'PM10 (mg/m3)': [150, 120, 140, 110, 160, 130, 145, 115, 155, 125],\n",
    "    'PM2.5 (mg/m3)': [90, 70, 80, 65, 95, 75, 85, 68, 92, 72],\n",
    "    'NO2': [40, 35, 38, 32, 42, 37, 39, 33, 41, 36],\n",
    "    'NOx': [60, 55, 58, 50, 62, 57, 59, 51, 61, 56],\n",
    "    'SO2': [20, 18, 19, 16, 22, 20, 21, 17, 23, 19],\n",
    "    'CO': [1.5, 1.2, 1.4, 1.1, 1.7, 1.3, 1.6, 1.0, 1.8, 1.4]\n",
    "}\n",
    "\n",
    "df = pd.DataFrame(data)\n",
    "\n",
    "# Ensure data types are correct\n",
    "df['PM10 (mg/m3)'] = pd.to_numeric(df['PM10 (mg/m3)'], errors='coerce')\n",
    "df['PM2.5 (mg/m3)'] = pd.to_numeric(df['PM2.5 (mg/m3)'], errors='coerce')\n",
    "df['NO2'] = pd.to_numeric(df['NO2'], errors='coerce')\n",
    "df['NOx'] = pd.to_numeric(df['NOx'], errors='coerce')\n",
    "df['SO2'] = pd.to_numeric(df['SO2'], errors='coerce')\n",
    "df['CO'] = pd.to_numeric(df['CO'], errors='coerce')\n",
    "\n",
    "# Now you can use this preprocessed DataFrame for analysis\n",
    "print(df)\n"
   ]
  }
 ],
 "metadata": {
  "kernelspec": {
   "display_name": "Python 3 (ipykernel)",
   "language": "python",
   "name": "python3"
  },
  "language_info": {
   "codemirror_mode": {
    "name": "ipython",
    "version": 3
   },
   "file_extension": ".py",
   "mimetype": "text/x-python",
   "name": "python",
   "nbconvert_exporter": "python",
   "pygments_lexer": "ipython3",
   "version": "3.11.3"
  }
 },
 "nbformat": 4,
 "nbformat_minor": 5
}
